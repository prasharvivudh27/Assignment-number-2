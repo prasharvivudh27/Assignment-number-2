{
 "cells": [
  {
   "cell_type": "code",
   "execution_count": 7,
   "metadata": {},
   "outputs": [
    {
     "name": "stdout",
     "output_type": "stream",
     "text": [
      "Enter number of elements For list1 : 6\n",
      "1\n",
      "1\n",
      "1\n",
      "2\n",
      "2\n",
      "2\n",
      "[1, 1, 1, 2, 2, 2]\n",
      "list2:-\n",
      "[1, 2]\n"
     ]
    }
   ],
   "source": [
    "##Basic question 1\n",
    "list1 = []  \n",
    "n = int(input(\"Enter number of elements For list1 : \"))  ##Taken the elemnts of list1 from the user\n",
    "for i in range(0, n): ##the range of list1 can from 0 to n\n",
    "    ele = int(input()) \n",
    "  \n",
    "    list1.append(ele) ##the elements will be added to list1 \n",
    "print(list1)\n",
    "list2 = []     ##the list2 which is empty\n",
    "print(\"list2:-\")\n",
    "list2.extend(list1)  ##taking the elements from list1 and saving into list2\n",
    "##print(\"list2:-\")\n",
    "list2 = list(set(list2))  ##set function is used to remove the duplicates from the elements of list 2 \n",
    "print(list2)  ##after removing duplicates list2 will be printed"
   ]
  },
  {
   "cell_type": "code",
   "execution_count": 19,
   "metadata": {},
   "outputs": [
    {
     "name": "stdout",
     "output_type": "stream",
     "text": [
      " give a number5\n",
      "True\n"
     ]
    }
   ],
   "source": [
    "##Basic question 2 \n",
    "list = [1,2,3,4,5,6,7]\n",
    "n = input(\" give a number\") \n",
    "i=0                    ## initializing\n",
    "for value in list :\n",
    "    if int(n) == value:      ##putting value in i\n",
    "        i=1              \n",
    "if(i==1):                      ##to comparing the i with elements in the list\n",
    "    print('True')\n",
    "else:\n",
    "    print(\"false\")"
   ]
  },
  {
   "cell_type": "code",
   "execution_count": 8,
   "metadata": {},
   "outputs": [
    {
     "name": "stdout",
     "output_type": "stream",
     "text": [
      "[4, 16, 36, 64, 100]\n"
     ]
    }
   ],
   "source": [
    "list1 = [1,4,9,16,25,36,49,64,81,100]  ##elements of list1 \n",
    "list2 = [] ##list2 in which we have to put the elements of list1 after sorting\n",
    "for num in list1:  ##loop for sorting elements of list1  \n",
    "    if num % 2 == 0 :        ##statement that if elements of list1 is divided by 2 and remander is 0 \n",
    "        list2.append(num)     ##adding the even elements into list2\n",
    "print (list2)    ##output for list2"
   ]
  },
  {
   "cell_type": "code",
   "execution_count": 20,
   "metadata": {},
   "outputs": [
    {
     "name": "stdout",
     "output_type": "stream",
     "text": [
      "Hello! What is your name?\n",
      "vivudh\n",
      "Well, vivudh, I am thinking of a number between 1 and 20.\n",
      "Take a guess.\n",
      "160\n",
      "lower.\n",
      "Take a guess.\n",
      "170\n",
      "lower.\n",
      "Take a guess.\n",
      "180\n",
      "lower.\n",
      "Take a guess.\n",
      "190\n",
      "lower.\n",
      "Take a guess.\n",
      "195\n",
      "You are close\n",
      "Take a guess.\n",
      "196\n",
      "You are close\n",
      "Take a guess.\n",
      "197\n",
      "You are close\n",
      "Take a guess.\n",
      "198\n",
      "You are close\n",
      "Take a guess.\n",
      "199\n",
      "You are close\n",
      "Take a guess.\n",
      "200\n",
      "You are close\n",
      "Take a guess.\n",
      "201\n",
      "You are close\n",
      "Take a guess.\n",
      "191\n",
      "lower.\n",
      "Take a guess.\n",
      "193\n",
      "You are close\n",
      "Take a guess.\n",
      "194\n",
      "You are close\n",
      "Take a guess.\n",
      "193\n",
      "You are close\n",
      "Take a guess.\n",
      "207\n",
      "higher\n",
      "Take a guess.\n",
      "205\n",
      "higher\n",
      "Take a guess.\n",
      "204\n",
      "higher\n",
      "Take a guess.\n",
      "203\n",
      "higher\n",
      "Take a guess.\n",
      "202\n",
      "higher\n",
      "Take a guess.\n",
      "201\n",
      "You are close\n",
      "Take a guess.\n",
      "200\n",
      "You are close\n",
      "Take a guess.\n",
      "199\n",
      "You are close\n",
      "Take a guess.\n",
      "198\n",
      "You are close\n",
      "Take a guess.\n",
      "197\n",
      "You are close\n",
      "Take a guess.\n",
      "196\n",
      "You are close\n",
      "Take a guess.\n",
      "195\n",
      "You are close\n",
      "Take a guess.\n",
      "194\n",
      "You are close\n",
      "Take a guess.\n",
      "193\n",
      "You are close\n",
      "Take a guess.\n",
      "192\n",
      "Good job, vivudh! You guessed my number in 30 guesses!\n"
     ]
    }
   ],
   "source": [
    "## Advanced question1\n",
    "\n",
    "import random      ## function used\n",
    "\n",
    "guessesTaken = 0        ##initializing the guesses\n",
    "\n",
    "print('Hello! What is your name?')\n",
    "\n",
    "myName = input()\n",
    "\n",
    "\n",
    "number = random.randint(1, 200)       ##choosing number between 1 to 200\n",
    "\n",
    "print('Well, ' + myName + ', I am thinking of a number between 1 and 20.')\n",
    "\n",
    "while guessesTaken < 200:\n",
    "\n",
    "        print('Take a guess.') \n",
    "        guess = input()\n",
    "        guess = int(guess)\n",
    "        guessesTaken = guessesTaken + 1                            \n",
    "        if guess in range(number + 1 , number + 10):                 ##loop for number of guess\n",
    "             print(\"You are close\")\n",
    "        elif guess in range(number + 1 , number + 5):\n",
    "             print(\"lower\")\n",
    "        elif guess < number:\n",
    "             print('lower.') \n",
    "        elif guess > number:\n",
    "             print('higher')\n",
    "        elif guess == number:\n",
    "            break\n",
    "        \n",
    "\n",
    "\n",
    "if guess == number:\n",
    "\n",
    "    guessesTaken = str(guessesTaken)\n",
    "\n",
    "    print('Good job, ' + myName + '! You guessed my number in ' + guessesTaken + ' guesses!')\n",
    "\n",
    "\n",
    "if guess != number:\n",
    "    number = str(number)\n",
    "\n",
    "    print('Nope. The number I was thinking of was ' + number)"
   ]
  },
  {
   "cell_type": "code",
   "execution_count": 32,
   "metadata": {},
   "outputs": [],
   "source": [
    "##Advance question2\n",
    "def cmguess(num) :             \n",
    "    low = 1\n",
    "    high = 200\n",
    "    guess = random.randint(1,201)      \n",
    "    while guess != num:\n",
    "        print(\"the computer guess the number...\",guess)\n",
    "        if guess > num :\n",
    "            high = guess\n",
    "        elif guess < num:\n",
    "            low = guess + 1\n",
    "            \n",
    "        guess = (low+high)//2\n",
    "    \n",
    "    \n",
    "    print(\"the number computer\", guess, \"it is correct\")  "
   ]
  },
  {
   "cell_type": "code",
   "execution_count": 33,
   "metadata": {},
   "outputs": [
    {
     "name": "stdout",
     "output_type": "stream",
     "text": [
      "Enter the Number34\n",
      "the computer guess the number... 66\n",
      "the computer guess the number... 33\n",
      "the computer guess the number... 50\n",
      "the computer guess the number... 42\n",
      "the computer guess the number... 38\n",
      "the computer guess the number... 36\n",
      "the computer guess the number... 35\n",
      "the number computer 34 it is correct\n"
     ]
    }
   ],
   "source": [
    "num = int(input(\"Enter the Number\"))\n",
    "if num < 1 or num > 201 :\n",
    "    print (\"Must be in range [1, 200]\")\n",
    "else :\n",
    "    cmguess(num)"
   ]
  }
 ],
 "metadata": {
  "kernelspec": {
   "display_name": "Python 3",
   "language": "python",
   "name": "python3"
  },
  "language_info": {
   "codemirror_mode": {
    "name": "ipython",
    "version": 3
   },
   "file_extension": ".py",
   "mimetype": "text/x-python",
   "name": "python",
   "nbconvert_exporter": "python",
   "pygments_lexer": "ipython3",
   "version": "3.7.3"
  }
 },
 "nbformat": 4,
 "nbformat_minor": 2
}
